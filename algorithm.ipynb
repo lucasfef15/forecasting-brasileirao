{
 "cells": [
  {
   "cell_type": "code",
   "execution_count": 1,
   "metadata": {},
   "outputs": [],
   "source": [
    "#IMPORTS\n",
    "import pandas as pd\n",
    "import numpy as np\n",
    "import matplotlib.pyplot as plt\n",
    "import os\n",
    "import warnings\n",
    "from scipy.stats import pearsonr\n",
    "from sklearn.linear_model import LinearRegression\n",
    "warnings.filterwarnings(\"ignore\")"
   ]
  },
  {
   "cell_type": "code",
   "execution_count": 2,
   "metadata": {},
   "outputs": [],
   "source": [
    "#LIST OF TEAMS\n",
    "teams = ['america', 'athletico', 'atletico', 'bahia', 'botafogo', 'bragantino', 'corinthians', 'coritiba', 'cruzeiro', 'cuiaba', \n",
    "         'flamengo', 'fluminense', 'fortaleza', 'goias', 'gremio', 'internacional', 'palmeiras', 'santos', 'saopaulo', 'vasco']"
   ]
  },
  {
   "cell_type": "code",
   "execution_count": 3,
   "metadata": {},
   "outputs": [],
   "source": [
    "#GET DATA PATHS AND GENERATE LIST OF FINAL POINTS\n",
    "file_names = os.listdir('./data')\n",
    "paths = []\n",
    "for file_name in file_names:\n",
    "    file_path = os.path.join('./data', file_name)\n",
    "    paths.append(file_path)\n",
    "    \n",
    "final_predictions = [0] * 20\n",
    "features_by_club = [[]] * 20"
   ]
  },
  {
   "cell_type": "code",
   "execution_count": 4,
   "metadata": {},
   "outputs": [],
   "source": [
    "#PROCESS SELECT TRAIN AND TEST SAMPLE\n",
    "def regression_brasileirao(df_team, feature_team, team):\n",
    "    miss = 0\n",
    "    for year in list(df_team[df_team.index > 2008].index):\n",
    "        if (min(df_team.index) > 2008 and year == min(df_team.index)):\n",
    "            year=list(df_team.index)[1];\n",
    "        \n",
    "        x_train = df_team[df_team.index < year][feature_team]\n",
    "        y_train = df_team[df_team.index < year]['PONTOS']\n",
    "        x_test = df_team.loc[year][feature_team].values.reshape(1, -1)\n",
    "\n",
    "        \n",
    "        model = LinearRegression()\n",
    "        model.fit(x_train, y_train)\n",
    "        y_test = model.predict(x_test)\n",
    "        \n",
    "        if (year != 2023):\n",
    "            miss += abs(y_test - df_team.loc[year]['PONTOS'])\n",
    "        else:\n",
    "            final_predictions[teams.index(team)] = y_test[0]\n",
    "        \n",
    "    mean_miss = miss/len(df_team)\n",
    "    print(mean_miss)\n",
    "    print(y_test)\n",
    "    print(model.coef_)"
   ]
  },
  {
   "cell_type": "code",
   "execution_count": 5,
   "metadata": {},
   "outputs": [
    {
     "name": "stdout",
     "output_type": "stream",
     "text": [
      "[4.93731503]\n",
      "[46.53585936]\n",
      "[ 0.32013633 -0.78637135  0.00704745]\n"
     ]
    }
   ],
   "source": [
    "#SANTOS PREDICTION\n",
    "\n",
    "#GET DATA AND DROP RELEGATIONS\n",
    "df_santos = pd.read_csv(paths[teams.index('santos')]).set_index('ANO')\n",
    "for value, index in zip(list(df_santos['PONTOS']), list(df_santos.index)):\n",
    "    if value == 0.0:\n",
    "        df_santos = df_santos.drop(index)\n",
    "\n",
    "#FEATURE SELECTION\n",
    "features = ['MM3_PTS', 'ESTADUAL', 'TMPTECDIA']\n",
    "features_by_club[teams.index('santos')] = features\n",
    "\n",
    "#RUN PROCESS\n",
    "regression_brasileirao(df_santos, features, 'santos')\n"
   ]
  },
  {
   "cell_type": "code",
   "execution_count": 6,
   "metadata": {},
   "outputs": [
    {
     "name": "stdout",
     "output_type": "stream",
     "text": [
      "[6.14586492]\n",
      "[65.91772589]\n",
      "[-1.10588969  1.04649913  0.01222435]\n"
     ]
    }
   ],
   "source": [
    "#SAOPAULO PREDICTION\n",
    "\n",
    "#GET DATA AND DROP RELEGATIONS\n",
    "df_saopaulo = pd.read_csv(paths[teams.index('saopaulo')]).set_index('ANO')\n",
    "for value, index in zip(list(df_saopaulo['PONTOS']), list(df_saopaulo.index)):\n",
    "    if value == 0.0:\n",
    "        df_saopaulo = df_saopaulo.drop(index)\n",
    "\n",
    "#FEATURE SELECTION\n",
    "features = ['MM3_PTS', 'MM3_ATK', 'TMPTECDIA']\n",
    "features_by_club[teams.index('saopaulo')] = features\n",
    "\n",
    "#RUN PROCESS\n",
    "regression_brasileirao(df_saopaulo, features, 'saopaulo')"
   ]
  },
  {
   "cell_type": "code",
   "execution_count": 7,
   "metadata": {},
   "outputs": [
    {
     "name": "stdout",
     "output_type": "stream",
     "text": [
      "[9.36062865]\n",
      "[62.49199733]\n",
      "[-1.27206872e+00  1.23819342e+00 -3.57722334e-01  3.39653960e-04]\n"
     ]
    }
   ],
   "source": [
    "#INTERNACIONAL PREDICTION\n",
    "df_internacional = pd.read_csv(paths[teams.index('internacional')]).set_index('ANO')\n",
    "for value, index in zip(list(df_internacional['PONTOS']), list(df_internacional.index)):\n",
    "    if value == 0.0:\n",
    "        df_internacional = df_internacional.drop(index)\n",
    "\n",
    "#FEATURE SELECTION\n",
    "features = ['MM3_PTS', 'MM3_ATK', 'MM3_DEF', 'MEDPUB']\n",
    "features_by_club[teams.index('internacional')] = features\n",
    "\n",
    "#RUN PROCESS\n",
    "regression_brasileirao(df_internacional, features, 'internacional')"
   ]
  },
  {
   "cell_type": "code",
   "execution_count": 8,
   "metadata": {},
   "outputs": [
    {
     "name": "stdout",
     "output_type": "stream",
     "text": [
      "[10.63535104]\n",
      "[68.8099169]\n",
      "[-0.28829668 -0.15360896  0.00053815 -0.05675581]\n"
     ]
    }
   ],
   "source": [
    "#CORINTHIANS PREDICTION\n",
    "df_corinthians = pd.read_csv(paths[teams.index('corinthians')]).set_index('ANO')\n",
    "for value, index in zip(list(df_corinthians['PONTOS']), list(df_corinthians.index)):\n",
    "    if value == 0.0:\n",
    "        df_corinthians = df_corinthians.drop(index)\n",
    "\n",
    "#FEATURE SELECTION\n",
    "features = ['MM3_ATK', 'MM3_DEF', 'MEDPUB', 'PRECO']\n",
    "features_by_club[teams.index('corinthians')] = features\n",
    "\n",
    "#RUN PROCESS\n",
    "regression_brasileirao(df_corinthians, features, 'corinthians')"
   ]
  },
  {
   "cell_type": "code",
   "execution_count": 9,
   "metadata": {},
   "outputs": [
    {
     "name": "stdout",
     "output_type": "stream",
     "text": [
      "[6.31745085]\n",
      "[39.24920725]\n",
      "[ 6.71451671e-01 -5.11196939e-01 -1.93965594e+00  7.70157473e-04]\n"
     ]
    }
   ],
   "source": [
    "#CORITIBA PREDICTION\n",
    "df_coritiba = pd.read_csv(paths[teams.index('coritiba')]).set_index('ANO')\n",
    "for value, index in zip(list(df_coritiba['PONTOS']), list(df_coritiba.index)):\n",
    "    if value == 0.0:\n",
    "        df_coritiba = df_coritiba.drop(index)\n",
    "\n",
    "#FEATURE SELECTION\n",
    "features = ['MM3_ATK', 'MM3_DEF', 'ESTADUAL', 'MEDPUB']\n",
    "features_by_club[teams.index('coritiba')] = features\n",
    "\n",
    "#RUN PROCESS\n",
    "regression_brasileirao(df_coritiba, features, 'coritiba')"
   ]
  },
  {
   "cell_type": "code",
   "execution_count": 10,
   "metadata": {},
   "outputs": [
    {
     "name": "stdout",
     "output_type": "stream",
     "text": [
      "[9.05542935]\n",
      "[47.81245252]\n",
      "[-0.04663473  0.56475344  0.00110949  0.15060391]\n"
     ]
    }
   ],
   "source": [
    "#CRUZEIRO PREDICTION\n",
    "df_cruzeiro = pd.read_csv(paths[teams.index('cruzeiro')]).set_index('ANO')\n",
    "for value, index in zip(list(df_cruzeiro['PONTOS']), list(df_cruzeiro.index)):\n",
    "    if value == 0.0:\n",
    "        df_cruzeiro = df_cruzeiro.drop(index)\n",
    "\n",
    "#FEATURE SELECTION\n",
    "features = ['MM3_ATK', 'MM3_DEF', 'MEDPUB', 'PRECO']\n",
    "features_by_club[teams.index('cruzeiro')] = features\n",
    "\n",
    "#RUN PROCESS\n",
    "regression_brasileirao(df_cruzeiro, features, 'cruzeiro')"
   ]
  },
  {
   "cell_type": "code",
   "execution_count": 11,
   "metadata": {},
   "outputs": [
    {
     "name": "stdout",
     "output_type": "stream",
     "text": [
      "[9.97343924]\n",
      "[54.29499261]\n",
      "[-9.54568788e-01  1.02625251e+00  3.52100027e-04  6.84669700e-02\n",
      "  9.24855916e-03]\n"
     ]
    }
   ],
   "source": [
    "#BAHIA PREDICTION\n",
    "df_bahia = pd.read_csv(paths[teams.index('bahia')]).set_index('ANO')\n",
    "for value, index in zip(list(df_bahia['PONTOS']), list(df_bahia.index)):\n",
    "    if value == 0.0:\n",
    "        df_bahia = df_bahia.drop(index)\n",
    "\n",
    "#FEATURE SELECTION\n",
    "features = ['MM3_PTS', 'MM3_ATK', 'MEDPUB', 'PRECO', 'TMPTECDIA']\n",
    "features_by_club[teams.index('bahia')] = features\n",
    "\n",
    "#RUN PROCESS\n",
    "regression_brasileirao(df_bahia, features, 'bahia')"
   ]
  },
  {
   "cell_type": "code",
   "execution_count": 12,
   "metadata": {},
   "outputs": [
    {
     "name": "stdout",
     "output_type": "stream",
     "text": [
      "[5.99868124]\n",
      "[58.73549265]\n",
      "[-2.33618459e+00  9.38054737e-04  8.72840561e-03]\n"
     ]
    }
   ],
   "source": [
    "#BOTAFOGO PREDICTION\n",
    "df_botafogo = pd.read_csv(paths[teams.index('botafogo')]).set_index('ANO')\n",
    "for value, index in zip(list(df_botafogo['PONTOS']), list(df_botafogo.index)):\n",
    "    if value == 0.0:\n",
    "        df_botafogo = df_botafogo.drop(index)\n",
    "\n",
    "#FEATURE SELECTION\n",
    "features = ['ESTADUAL', 'MEDPUB', 'TMPTECDIA']\n",
    "features_by_club[teams.index('botafogo')] = features\n",
    "\n",
    "#RUN PROCESS\n",
    "regression_brasileirao(df_botafogo, features, 'botafogo')"
   ]
  },
  {
   "cell_type": "code",
   "execution_count": 13,
   "metadata": {},
   "outputs": [
    {
     "name": "stdout",
     "output_type": "stream",
     "text": [
      "[8.90515446]\n",
      "[57.84335108]\n",
      "[-0.17502028  0.00043748  0.02667875]\n"
     ]
    }
   ],
   "source": [
    "#VASCO PREDICTION\n",
    "df_vasco = pd.read_csv(paths[teams.index('vasco')]).set_index('ANO')\n",
    "for value, index in zip(list(df_vasco['PONTOS']), list(df_vasco.index)):\n",
    "    if value == 0.0:\n",
    "        df_vasco = df_vasco.drop(index)\n",
    "\n",
    "#FEATURE SELECTION\n",
    "features = ['MM3_PTS', 'MEDPUB', 'TMPTECDIA']\n",
    "features_by_club[teams.index('vasco')] = features\n",
    "\n",
    "#RUN PROCESS\n",
    "regression_brasileirao(df_vasco, features, 'vasco')"
   ]
  },
  {
   "cell_type": "code",
   "execution_count": 14,
   "metadata": {},
   "outputs": [
    {
     "name": "stdout",
     "output_type": "stream",
     "text": [
      "[5.28813559]\n",
      "[42.70718383]\n",
      "[-0.25129746]\n"
     ]
    }
   ],
   "source": [
    "#BRAGANTINO PREDICTION\n",
    "df_bragantino = pd.read_csv(paths[teams.index('bragantino')]).set_index('ANO')\n",
    "for value, index in zip(list(df_bragantino['PONTOS']), list(df_bragantino.index)):\n",
    "    if value == 0.0:\n",
    "        df_bragantino = df_bragantino.drop(index)\n",
    "\n",
    "#FEATURE SELECTION\n",
    "features = ['MM3_PTS']\n",
    "features_by_club[teams.index('bragantino')] = features\n",
    "\n",
    "#RUN PROCESS\n",
    "regression_brasileirao(df_bragantino, features, 'bragantino')"
   ]
  },
  {
   "cell_type": "code",
   "execution_count": 15,
   "metadata": {},
   "outputs": [
    {
     "name": "stdout",
     "output_type": "stream",
     "text": [
      "[7.15750191]\n",
      "[63.2270373]\n",
      "[0.07467646 0.23539752 0.00144264 0.01720187]\n"
     ]
    }
   ],
   "source": [
    "#GRÊMIO PREDICTION\n",
    "df_gremio = pd.read_csv(paths[teams.index('gremio')]).set_index('ANO')\n",
    "for value, index in zip(list(df_gremio['PONTOS']), list(df_gremio.index)):\n",
    "    if value == 0.0:\n",
    "        df_gremio = df_gremio.drop(index)\n",
    "\n",
    "#FEATURE SELECTION\n",
    "features = ['MM3_PTS', 'MM3_ATK', 'MEDPUB', 'TMPTECDIA']\n",
    "features_by_club[teams.index('gremio')] = features\n",
    "\n",
    "#RUN PROCESS\n",
    "regression_brasileirao(df_gremio, features, 'gremio')"
   ]
  },
  {
   "cell_type": "code",
   "execution_count": 17,
   "metadata": {},
   "outputs": [
    {
     "name": "stdout",
     "output_type": "stream",
     "text": [
      "[8.0341383]\n",
      "[44.63753583]\n",
      "[-2.43811328e-01 -1.52678035e-02  3.64832758e-04  3.87094477e-01\n",
      " -3.33454749e-02]\n"
     ]
    }
   ],
   "source": [
    "#FORTALEZA PREDICTION\n",
    "df_fortaleza = pd.read_csv(paths[teams.index('fortaleza')]).set_index('ANO')\n",
    "for value, index in zip(list(df_fortaleza['PONTOS']), list(df_fortaleza.index)):\n",
    "    if value == 0.0:\n",
    "        df_fortaleza = df_fortaleza.drop(index)\n",
    "\n",
    "#FEATURE SELECTION\n",
    "features = ['MM3_DEF', 'ESTADUAL', 'MEDPUB', 'PRECO', 'TMPTECDIA']\n",
    "features_by_club[teams.index('fortaleza')] = features\n",
    "\n",
    "#RUN PROCESS\n",
    "regression_brasileirao(df_fortaleza, features, 'fortaleza')"
   ]
  },
  {
   "cell_type": "code",
   "execution_count": 18,
   "metadata": {},
   "outputs": [
    {
     "name": "stdout",
     "output_type": "stream",
     "text": [
      "[4.]\n",
      "[35.2538299]\n",
      "[-0.17926808 -0.12902735 -0.1404457 ]\n"
     ]
    }
   ],
   "source": [
    "#CUIABÁ PREDICTION\n",
    "df_cuiaba = pd.read_csv(paths[teams.index('cuiaba')]).set_index('ANO')\n",
    "for value, index in zip(list(df_cuiaba['PONTOS']), list(df_cuiaba.index)):\n",
    "    if value == 0.0:\n",
    "        df_cuiaba = df_cuiaba.drop(index)\n",
    "\n",
    "#FEATURE SELECTION\n",
    "features = ['MM3_PTS', 'MM3_ATK', 'MM3_DEF']\n",
    "features_by_club[teams.index('cuiaba')] = features\n",
    "\n",
    "#RUN PROCESS\n",
    "regression_brasileirao(df_cuiaba, features, 'cuiaba')"
   ]
  },
  {
   "cell_type": "code",
   "execution_count": 19,
   "metadata": {},
   "outputs": [
    {
     "name": "stdout",
     "output_type": "stream",
     "text": [
      "[9.32848889]\n",
      "[46.24620987]\n",
      "[-0.03928359]\n"
     ]
    }
   ],
   "source": [
    "#AMÉRICA PREDICTION\n",
    "df_america = pd.read_csv(paths[teams.index('america')]).set_index('ANO')\n",
    "for value, index in zip(list(df_america['PONTOS']), list(df_america.index)):\n",
    "    if value == 0.0:\n",
    "        df_america = df_america.drop(index)\n",
    "\n",
    "#FEATURE SELECTION\n",
    "features = ['TMPTECDIA']\n",
    "features_by_club[teams.index('america')] = features\n",
    "\n",
    "#RUN PROCESS\n",
    "regression_brasileirao(df_america, features, 'america')"
   ]
  },
  {
   "cell_type": "code",
   "execution_count": 20,
   "metadata": {},
   "outputs": [
    {
     "name": "stdout",
     "output_type": "stream",
     "text": [
      "[8.87847683]\n",
      "[71.90742024]\n",
      "[ 2.77438238e-04 -6.88710209e+00  8.38654433e-02]\n"
     ]
    }
   ],
   "source": [
    "#ATLÉTICO PREDICTION\n",
    "df_atletico = pd.read_csv(paths[teams.index('atletico')]).set_index('ANO')\n",
    "for value, index in zip(list(df_atletico['PONTOS']), list(df_atletico.index)):\n",
    "    if value == 0.0:\n",
    "        df_atletico = df_atletico.drop(index)\n",
    "\n",
    "#FEATURE SELECTION\n",
    "features = ['MEDPUB', 'ESTADUAL', 'PRECO']\n",
    "features_by_club[teams.index('atletico')] = features\n",
    "\n",
    "#RUN PROCESS\n",
    "regression_brasileirao(df_atletico, features, 'atletico')"
   ]
  },
  {
   "cell_type": "code",
   "execution_count": 21,
   "metadata": {},
   "outputs": [
    {
     "name": "stdout",
     "output_type": "stream",
     "text": [
      "[10.46857107]\n",
      "[68.45338449]\n",
      "[ 1.90783336e-01 -6.42980167e-01  3.16593502e-04  3.39321948e-03]\n"
     ]
    }
   ],
   "source": [
    "#FLAMENGO PREDICTION\n",
    "df_flamengo = pd.read_csv(paths[teams.index('flamengo')]).set_index('ANO')\n",
    "for value, index in zip(list(df_flamengo['PONTOS']), list(df_flamengo.index)):\n",
    "    if value == 0.0:\n",
    "        df_flamengo = df_flamengo.drop(index)\n",
    "\n",
    "#FEATURE SELECTION\n",
    "features = ['MM3_PTS', 'MM3_DEF', 'MEDPUB', 'PRECO']\n",
    "features_by_club[teams.index('flamengo')] = features\n",
    "\n",
    "#RUN PROCESS\n",
    "regression_brasileirao(df_flamengo, features, 'flamengo')"
   ]
  },
  {
   "cell_type": "code",
   "execution_count": 22,
   "metadata": {},
   "outputs": [
    {
     "name": "stdout",
     "output_type": "stream",
     "text": [
      "[10.96383969]\n",
      "[62.92558366]\n",
      "[ 2.07146405e-01 -2.22018397e+00  1.21432536e-04]\n"
     ]
    }
   ],
   "source": [
    "#FLUMINENSE PREDICTION\n",
    "df_fluminense = pd.read_csv(paths[teams.index('fluminense')]).set_index('ANO')\n",
    "for value, index in zip(list(df_fluminense['PONTOS']), list(df_fluminense.index)):\n",
    "    if value == 0.0:\n",
    "        df_fluminense = df_fluminense.drop(index)\n",
    "\n",
    "#FEATURE SELECTION\n",
    "features = ['MM3_ATK', 'ESTADUAL', 'MEDPUB']\n",
    "features_by_club[teams.index('fluminense')] = features\n",
    "\n",
    "#RUN PROCESS\n",
    "regression_brasileirao(df_fluminense, features, 'fluminense')"
   ]
  },
  {
   "cell_type": "code",
   "execution_count": 23,
   "metadata": {},
   "outputs": [
    {
     "name": "stdout",
     "output_type": "stream",
     "text": [
      "[9.42254641]\n",
      "[84.08955024]\n",
      "[-8.35485369e-01  1.25798232e+00  6.53810155e-04  1.83178031e-01]\n"
     ]
    }
   ],
   "source": [
    "#PALMEIRAS PREDICTION\n",
    "df_palmeiras = pd.read_csv(paths[teams.index('palmeiras')]).set_index('ANO')\n",
    "for value, index in zip(list(df_palmeiras['PONTOS']), list(df_palmeiras.index)):\n",
    "    if value == 0.0:\n",
    "        df_palmeiras = df_palmeiras.drop(index)\n",
    "\n",
    "#FEATURE SELECTION\n",
    "features = ['MM3_PTS', 'MM3_ATK', 'MEDPUB', 'PRECO']\n",
    "features_by_club[teams.index('palmeiras')] = features\n",
    "\n",
    "#RUN PROCESS\n",
    "regression_brasileirao(df_palmeiras, features, 'palmeiras')"
   ]
  },
  {
   "cell_type": "code",
   "execution_count": 24,
   "metadata": {},
   "outputs": [
    {
     "name": "stdout",
     "output_type": "stream",
     "text": [
      "[9.98217489]\n",
      "[56.75234805]\n",
      "[ 1.30622202e-02 -2.89801987e-01 -1.02378979e+00  4.36593258e-04]\n"
     ]
    }
   ],
   "source": [
    "#ATHLETICO PREDICTION\n",
    "df_athletico = pd.read_csv(paths[teams.index('athletico')]).set_index('ANO')\n",
    "for value, index in zip(list(df_athletico['PONTOS']), list(df_athletico.index)):\n",
    "    if value == 0.0:\n",
    "        df_athletico = df_athletico.drop(index)\n",
    "\n",
    "#FEATURE SELECTION\n",
    "features = ['MM3_PTS', 'MM3_DEF', 'ESTADUAL', 'MEDPUB']\n",
    "features_by_club[teams.index('athletico')] = features\n",
    "\n",
    "#RUN PROCESS\n",
    "regression_brasileirao(df_athletico, features, 'athletico')"
   ]
  },
  {
   "cell_type": "code",
   "execution_count": 26,
   "metadata": {},
   "outputs": [
    {
     "name": "stdout",
     "output_type": "stream",
     "text": [
      "[6.32707369]\n",
      "[44.02275204]\n",
      "[-2.02419214e-02 -2.92563943e+00  6.64809553e-04  1.65339969e-02]\n"
     ]
    }
   ],
   "source": [
    "#GOIÁS PREDICTION\n",
    "df_goias = pd.read_csv(paths[teams.index('goias')]).set_index('ANO')\n",
    "for value, index in zip(list(df_goias['PONTOS']), list(df_goias.index)):\n",
    "    if value == 0.0:\n",
    "        df_goias = df_goias.drop(index)\n",
    "\n",
    "#FEATURE SELECTION\n",
    "features = ['MM3_DEF', 'ESTADUAL', 'MEDPUB', 'TMPTECDIA']\n",
    "features_by_club[teams.index('goias')] = features\n",
    "\n",
    "#RUN PROCESS\n",
    "regression_brasileirao(df_goias, features, 'goias')"
   ]
  },
  {
   "cell_type": "code",
   "execution_count": 27,
   "metadata": {},
   "outputs": [
    {
     "name": "stdout",
     "output_type": "stream",
     "text": [
      "0.3483024243546175\n"
     ]
    }
   ],
   "source": [
    "#TRADITION CALCULATION\n",
    "dfs = [df_america, df_athletico, df_atletico, df_bahia, df_botafogo, df_bragantino, df_corinthians, df_coritiba, df_cruzeiro, df_cuiaba, \n",
    "       df_flamengo, df_fluminense, df_fortaleza, df_goias, df_gremio, df_internacional, df_palmeiras, df_santos, df_saopaulo, df_vasco]\n",
    "\n",
    "for value, index in zip(final_predictions, range(0, len(final_predictions))):\n",
    "       final_predictions[index] = round(value, 2)\n",
    "\n",
    "df_trad = pd.DataFrame(index = [2006, 2007, 2008, 2009, 2010, 2011, 2012, 2013, 2014, \n",
    "                                2015, 2016, 2017, 2018, 2019, 2020, 2021, 2022, 2023])\n",
    "df_points = pd.DataFrame(index = [2006, 2007, 2008, 2009, 2010, 2011, 2012, 2013, 2014, \n",
    "                                2015, 2016, 2017, 2018, 2019, 2020, 2021, 2022, 2023])\n",
    "\n",
    "for df, team in zip(dfs, teams):\n",
    "       df_trad[team] = df['TRAD']\n",
    "       df_trad = df_trad.fillna(0)\n",
    "       df_points[team] = df['PONTOS']\n",
    "       df_points = df_points.fillna(0)\n",
    "\n",
    "corr_acm = 0\n",
    "for index, year in zip(range(0, len(df_trad)), list(df_trad.index)):\n",
    "       if year < 2023:\n",
    "              list_points = [x for x in df_points.iloc[index].tolist() if x != 0]\n",
    "              list_trad = [x for x in df_trad.iloc[index].tolist() if x != 0]\n",
    "              corr, _ = pearsonr(list_trad, list_points)\n",
    "              corr_acm += corr\n",
    "\n",
    "trad_corr = corr_acm/len(df_trad)\n",
    "print(trad_corr)"
   ]
  },
  {
   "cell_type": "code",
   "execution_count": 28,
   "metadata": {},
   "outputs": [],
   "source": [
    "#WEIGHTING TRADITION INTO FORMULA\n",
    "df_final = pd.DataFrame()\n",
    "df_final['TEAMS'] = teams\n",
    "df_final['POINTS 2023 EXPEC'] = final_predictions\n",
    "trad_norm = []\n",
    "for trad in list(df_trad.loc[2023]):\n",
    "    new_trad = (trad - min(list(df_trad.loc[2023]))) / (max(list(df_trad.loc[2023])) - min(list(df_trad.loc[2023]))) * (max(final_predictions) - min(final_predictions)) + min(final_predictions)\n",
    "    trad_norm.append(round(new_trad,2))\n",
    "df_final['TRAD NORM'] = trad_norm\n",
    "df_final['POINTS 2023 FINAL'] = round((1 - trad_corr/10) * df_final['POINTS 2023 EXPEC'] + trad_corr/10 * df_final['TRAD NORM'], 2)"
   ]
  },
  {
   "cell_type": "code",
   "execution_count": 29,
   "metadata": {},
   "outputs": [
    {
     "data": {
      "image/png": "[encoded data removed]",
      "text/plain": [
       "<Figure size 504x360 with 1 Axes>"
      ]
     },
     "metadata": {
      "needs_background": "light"
     },
     "output_type": "display_data"
    }
   ],
   "source": [
    "#FINAL DATAFRAME WITH VALUES AND PREDICTIONS\n",
    "df_final = df_final.sort_values(by='POINTS 2023 FINAL', ascending=False)\n",
    "fig, ax = plt.subplots(1, 1, figsize=(7, 5))\n",
    "ax.axis('off')\n",
    "table_data = [df_final.columns.to_list()] + df_final.values.tolist()\n",
    "ax.table(cellText=table_data, cellLoc='center', loc='center')\n",
    "plt.show()"
   ]
  },
  {
   "cell_type": "code",
   "execution_count": 30,
   "metadata": {},
   "outputs": [
    {
     "data": {
      "image/png": "[encoded data removed]",
      "text/plain": [
       "<Figure size 432x288 with 2 Axes>"
      ]
     },
     "metadata": {
      "needs_background": "light"
     },
     "output_type": "display_data"
    }
   ],
   "source": [
    "#TABLE GENERATOR\n",
    "all_features = ['MM3_PTS', 'MM3_ATK', 'MM3_DEF', 'ESTADUAL', 'MEDPUB', 'PRECO', 'TMPTECDIA']\n",
    "df_features = pd.DataFrame(index = teams, columns=all_features)\n",
    "for team in teams:\n",
    "    bool_of_features = []\n",
    "    for feature in all_features:\n",
    "        if feature in features_by_club[teams.index(team)]:\n",
    "            bool_of_features.append(1);\n",
    "        else:\n",
    "            bool_of_features.append(0)\n",
    "    df_features.loc[team] = bool_of_features\n",
    "    \n",
    "df_features = df_features.transpose()\n",
    "df_features_num = df_features.astype(float).values\n",
    "fig, ax = plt.subplots()\n",
    "im = ax.imshow(df_features_num, cmap = 'RdBu', interpolation='nearest')\n",
    "\n",
    "ax.set_xticks(range(0,20))\n",
    "ax.set_yticks(range(0,7))\n",
    "ax.set_xticklabels(teams, rotation = 90)\n",
    "ax.set_yticklabels(all_features)\n",
    "\n",
    "ax.set_title(\"FEATURES USED BY TEAM\")\n",
    "cbar = ax.figure.colorbar(im, ax=ax, shrink=0.5)\n",
    "\n",
    "plt.show()"
   ]
  },
  {
   "cell_type": "code",
   "execution_count": 31,
   "metadata": {},
   "outputs": [
    {
     "name": "stdout",
     "output_type": "stream",
     "text": [
      "MM3_PTS was used in: 11 clubs.\n",
      "MM3_ATK was used in: 10 clubs.\n",
      "MM3_DEF was used in: 9 clubs.\n",
      "ESTADUAL was used in: 8 clubs.\n",
      "MEDPUB was used in: 15 clubs.\n",
      "PRECO was used in: 7 clubs.\n",
      "TMPTECDIA was used in: 9 clubs.\n"
     ]
    }
   ],
   "source": [
    "#FEATURE COUNTING\n",
    "for feature in all_features:\n",
    "    print(feature + \" was used in: \" + str(sum(list(df_features.transpose()[feature]))) + \" clubs.\")"
   ]
  }
 ],
 "metadata": {
  "kernelspec": {
   "display_name": "base",
   "language": "python",
   "name": "python3"
  },
  "language_info": {
   "codemirror_mode": {
    "name": "ipython",
    "version": 3
   },
   "file_extension": ".py",
   "mimetype": "text/x-python",
   "name": "python",
   "nbconvert_exporter": "python",
   "pygments_lexer": "ipython3",
   "version": "3.9.12"
  },
  "orig_nbformat": 4
 },
 "nbformat": 4,
 "nbformat_minor": 2
}
